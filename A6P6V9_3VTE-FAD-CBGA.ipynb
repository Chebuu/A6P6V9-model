{
 "nbformat": 4,
 "nbformat_minor": 2,
 "metadata": {
  "language_info": {
   "name": "python",
   "codemirror_mode": {
    "name": "ipython",
    "version": 3
   },
   "version": "3.6.10-final"
  },
  "orig_nbformat": 2,
  "file_extension": ".py",
  "mimetype": "text/x-python",
  "name": "python",
  "npconvert_exporter": "python",
  "pygments_lexer": "ipython3",
  "version": 3,
  "kernelspec": {
   "name": "python361064bitqcmmcondac19dda4244fb4a8d8a50fb39055fedc3",
   "display_name": "Python 3.6.10 64-bit ('qcmm': conda)"
  }
 },
 "cells": [
  {
   "cell_type": "code",
   "execution_count": 2,
   "metadata": {},
   "outputs": [],
   "source": [
    "from openmoltools.utils import smiles_to_mdtraj_ffxml\n",
    "from openmoltools.amber import run_antechamber, find_gaff_dat\n",
    "from openmoltools.amber_parser import AmberParser"
   ]
  },
  {
   "cell_type": "code",
   "execution_count": 3,
   "metadata": {},
   "outputs": [],
   "source": [
    "import tempfile\n",
    "from rdkit import Chem\n",
    "from rdkit.Chem import AllChem\n",
    "\n",
    "def antechamber_from_smiles(\n",
    "    smiles_string, molecule_name, frcmod_filename,\n",
    "    gaff_mol2_filename=None, net_charge=None, charge_method=\"bcc\", \n",
    "    resname=False, log_debug_output=False, gaff_version='gaff'):\n",
    "\n",
    "    input_format = 'mdl'\n",
    "\n",
    "    m = Chem.MolFromSmiles(smiles_string)\n",
    "    m = Chem.AddHs(m)\n",
    "    AllChem.EmbedMolecule(m)\n",
    "    AllChem.UFFOptimizeMolecule(m)\n",
    "\n",
    "    mdl_filename = tempfile.mktemp(suffix='.%s' % input_format)\n",
    "    Chem.MolToMolFile(m, mdl_filename)\n",
    "\n",
    "    return run_antechamber(\n",
    "        molecule_name, mdl_filename, charge_method, \n",
    "        net_charge, gaff_mol2_filename, frcmod_filename, \n",
    "        input_format, resname, log_debug_output, gaff_version)\n",
    "\n",
    "def create_ffxml_file(\n",
    "    gaff_mol2_filename, frcmod_filename, ffxml_filename,\n",
    "    override_mol2_residue_name=None):\n",
    "    \n",
    "    parser = AmberParser(override_mol2_residue_name=override_mol2_residue_name)\n",
    "    parser.parse_filenames([find_gaff_dat(), gaff_mol2_filename, frcmod_filename])\n",
    "\n",
    "    ffxml_stream = parser.generate_xml()\n",
    "\n",
    "    if ffxml_filename is not None:\n",
    "        outfile = open(ffxml_filename, 'w')\n",
    "        outfile.write(ffxml_stream.read())\n",
    "        outfile.close()\n",
    "        ffxml_stream.seek(0)\n",
    "\n",
    "    return ffxml_stream"
   ]
  },
  {
   "cell_type": "code",
   "execution_count": 6,
   "metadata": {},
   "outputs": [],
   "source": [
    "(FAD_mol2_file, FAD_frcmod_file) = antechamber_from_smiles(\n",
    "    smiles_string='CC1=CC2=C(C=C1C)N(C3=NC(=O)NC(=O)C3=N2)C[C@@H]([C@@H]([C@@H](COP(=O)(O)OP(=O)(O)OC[C@@H]4[C@H]([C@H]([C@@H](O4)N5C=NC6=C(N=CN=C65)N)O)O)O)O)O',\n",
    "    molecule_name='FAD', \n",
    "    frcmod_filename='./FAD.frcmod',\n",
    "    gaff_mol2_filename='./FAD.gaff.mol2')\n",
    "\n",
    "FAD_ffxml_file = create_ffxml_file(\n",
    "    FAD_mol2_file, FAD_frcmod_file, \n",
    "    ffxml_filename='./FAD.ffxml',\n",
    "    override_mol2_residue_name='FAD')"
   ]
  },
  {
   "cell_type": "code",
   "execution_count": 7,
   "metadata": {},
   "outputs": [],
   "source": [
    "(CBGA_mol2_file, CBGA_frcmod_file) = antechamber_from_smiles(\n",
    "    smiles_string='CCCCCC1=CC(=C(C(=C1C(=O)O)O)C/C=C(\\C)/CCC=C(C)C)O',\n",
    "    molecule_name='CBGA', \n",
    "    frcmod_filename='./CBGA.frcmod',\n",
    "    gaff_mol2_filename='./CBGA.gaff.mol2')\n",
    "\n",
    "CBGA_ffxml_file = create_ffxml_file(\n",
    "    CBGA_mol2_file, CBGA_frcmod_file, \n",
    "    ffxml_filename='./CBGA.ffxml',\n",
    "    override_mol2_residue_name='CBGA')"
   ]
  },
  {
   "cell_type": "code",
   "execution_count": null,
   "metadata": {},
   "outputs": [],
   "source": [
    "%%bash\n",
    "cp2k.sopt em.inp > em.out"
   ]
  },
  {
   "cell_type": "code",
   "execution_count": null,
   "metadata": {},
   "outputs": [],
   "source": [
    "%%bash\n",
    "parmed complex.prmtop\n",
    "changeLJSingleType :WAT@H1 0.3019 0.047\n",
    "changeLJSingleType :*@HO 0.3019 0.047\n",
    "outparm complex_LJ_mod.prmtop\n",
    "quit"
   ]
  },
  {
   "cell_type": "code",
   "execution_count": null,
   "metadata": {},
   "outputs": [],
   "source": [
    "%%bash\n",
    "cp2k.sopt md.inp"
   ]
  }
 ]
}