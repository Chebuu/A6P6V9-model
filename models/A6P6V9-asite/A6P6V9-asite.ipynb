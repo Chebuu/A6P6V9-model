{
 "metadata": {
  "language_info": {
   "codemirror_mode": {
    "name": "ipython",
    "version": 3
   },
   "file_extension": ".py",
   "mimetype": "text/x-python",
   "name": "python",
   "nbconvert_exporter": "python",
   "pygments_lexer": "ipython3",
   "version": "3.6.11-final"
  },
  "orig_nbformat": 2,
  "kernelspec": {
   "name": "Python 3.6.11 64-bit ('qcmm': virtualenv)",
   "display_name": "Python 3.6.11 64-bit ('qcmm': virtualenv)",
   "metadata": {
    "interpreter": {
     "hash": "e48c9bfdccfbfe7b296ff3c837069cd72899fd94f29d974904d2d6b5927ea76d"
    }
   }
  }
 },
 "nbformat": 4,
 "nbformat_minor": 2,
 "cells": [
  {
   "cell_type": "code",
   "execution_count": 23,
   "metadata": {
    "tags": []
   },
   "outputs": [
    {
     "output_type": "stream",
     "name": "stdout",
     "text": "1 molecule converted\n==============================\n*** Open Babel Warning  in PerceiveBondOrders\n  Failed to kekulize aromatic bonds in OBMol::PerceiveBondOrders (title is FHC.pdb)\n\n1 molecule converted\n==============================\n*** Open Babel Warning  in ReadMolecule\n  Failed to kekulize aromatic bonds in MOL2 file (title is 3VTE-89_299-480_538-CBGA.pdb)\n\n1 molecule converted\n==============================\n*** Open Babel Warning  in ReadMolecule\n  Failed to kekulize aromatic bonds in MOL2 file (title is 3VTE-89_299-480_538-CBGA.pdb)\n\n1 molecule converted\n1 molecule converted\n1 molecule converted\n"
    }
   ],
   "source": [
    "# Ligand (CBGA)\n",
    "!obabel -h -ipdb CBGA.pdb -osdf > CBGA.sdf\n",
    "# Cofactor (FAD-His-Cys)\n",
    "!obabel -h -ipdb FHC.pdb -osdf > FHC.sdf\n",
    "# Active site residues \n",
    "!obabel -h -imol2 H292.mol2 -osdf > H292.sdf\n",
    "!obabel -h -imol2 H292.mol2 -opdb > H292.pdb\n",
    "!obabel -h -imol2 Y484.mol2 -osdf > Y484.sdf\n",
    "!obabel -h -imol2 Y484.mol2 -opdb > Y484.pdb\n"
   ]
  },
  {
   "cell_type": "code",
   "execution_count": null,
   "metadata": {
    "tags": []
   },
   "outputs": [],
   "source": [
    "import parmed as pmd\n",
    "\n",
    "from simtk import openmm, unit\n",
    "from simtk.openmm import app, LangevinIntegrator\n",
    "from simtk.openmm.app import PDBFile, NoCutoff, HBonds\n",
    "\n",
    "from openforcefield.topology import Molecule\n",
    "from openmmforcefields.generators import SystemGenerator\n",
    "from openforcefield.typing.engines.smirnoff import ForceField\n",
    "\n",
    "offParsley = ForceField('openff_unconstrained-1.2.1.offxml')\n",
    "\n",
    "ommCBGA = PDBFile('CBGA.pdb')\n",
    "molCBGA = Molecule('CBGA.sdf', allow_undefined_stereo=True)\n",
    "ligand_system = offParsley.create_openmm_system(\n",
    "    molCBGA.to_topology())\n",
    "pmdCBGA = pmd.openmm.load_topology(\n",
    "    ommCBGA.topology,\n",
    "    ligand_system,\n",
    "    xyz=ommCBGA.positions)\n",
    "\n",
    "ommFHC = PDBFile('FHC.pdb')\n",
    "molFHC = Molecule('FHC.sdf', allow_undefined_stereo=True)\n",
    "cofactor_system = offParsley.create_openmm_system(\n",
    "    molFHC.to_topology())\n",
    "pmdFHC = pmd.openmm.load_topology(\n",
    "    ommFHC.topology,\n",
    "    cofactor_system,\n",
    "    xyz=ommFHC.positions)\n",
    "\n",
    "ommY484 = PDBFile('Y484.pdb')\n",
    "molY484 = Molecule('Y484.sdf', allow_undefined_stereo=True)\n",
    "tyrosine_system = offParsley.create_openmm_system(\n",
    "    molY484.to_topology())\n",
    "pmdY484 = pmd.openmm.load_topology(\n",
    "    ommY484.topology,\n",
    "    tyrosine_system,\n",
    "    xyz=ommY484.positions)\n",
    "\n",
    "ommH292 = PDBFile('H292.pdb')\n",
    "molH292 = Molecule('H292.sdf', allow_undefined_stereo=True)\n",
    "histidine_system = offParsley.create_openmm_system(\n",
    "    molH292.to_topology())\n",
    "pmdH292 = pmd.openmm.load_topology(\n",
    "    ommH292.topology,\n",
    "    histidine_system,\n",
    "    xyz=ommH292.positions)"
   ]
  },
  {
   "cell_type": "code",
   "execution_count": null,
   "metadata": {},
   "outputs": [],
   "source": [
    "offParsley = ForceField('openff-1.2.1.offxml')"
   ]
  },
  {
   "cell_type": "code",
   "execution_count": null,
   "metadata": {},
   "outputs": [],
   "source": [
    "!obabel -i"
   ]
  },
  {
   "cell_type": "code",
   "execution_count": 24,
   "metadata": {
    "tags": []
   },
   "outputs": [
    {
     "output_type": "stream",
     "name": "stderr",
     "text": "Warning (not error because allow_undefined_stereo=True): \n"
    },
    {
     "output_type": "error",
     "ename": "UnassignedMoleculeChargeException",
     "evalue": "The following molecules did not have charges assigned by any ParameterHandler in the ForceField:\n[H][C]1=[C]([C]([H])([H])[H])[N]([H])[CH]([H])[N]1[H]\n",
     "traceback": [
      "\u001b[0;31m---------------------------------------------------------------------------\u001b[0m",
      "\u001b[0;31mUnassignedMoleculeChargeException\u001b[0m         Traceback (most recent call last)",
      "\u001b[0;32m&lt;ipython-input-24-1cce2368773c&gt;\u001b[0m in \u001b[0;36m&lt;module&gt;\u001b[0;34m\u001b[0m\n\u001b[1;32m      2\u001b[0m \u001b[0mmolH292\u001b[0m \u001b[0;34m=\u001b[0m \u001b[0mMolecule\u001b[0m\u001b[0;34m(\u001b[0m\u001b[0;34m&#39;H292.sdf&#39;\u001b[0m\u001b[0;34m,\u001b[0m \u001b[0mallow_undefined_stereo\u001b[0m\u001b[0;34m=\u001b[0m\u001b[0;32mTrue\u001b[0m\u001b[0;34m)\u001b[0m\u001b[0;34m\u001b[0m\u001b[0;34m\u001b[0m\u001b[0m\n\u001b[1;32m      3\u001b[0m histidine_system = offParsley.create_openmm_system(\n\u001b[0;32m----&gt; 4\u001b[0;31m     molH292.to_topology())\n\u001b[0m\u001b[1;32m      5\u001b[0m pmdH292 = pmd.openmm.load_topology(\n\u001b[1;32m      6\u001b[0m     \u001b[0mommH292\u001b[0m\u001b[0;34m.\u001b[0m\u001b[0mtopology\u001b[0m\u001b[0;34m,\u001b[0m\u001b[0;34m\u001b[0m\u001b[0;34m\u001b[0m\u001b[0m\n",
      "\u001b[0;32m~/opt/anaconda3/envs/qcmm/lib/python3.6/site-packages/openforcefield/typing/engines/smirnoff/forcefield.py\u001b[0m in \u001b[0;36mcreate_openmm_system\u001b[0;34m(self, topology, **kwargs)\u001b[0m\n\u001b[1;32m   1224\u001b[0m         \u001b[0;31m# Let force Handlers do postprocessing\u001b[0m\u001b[0;34m\u001b[0m\u001b[0;34m\u001b[0m\u001b[0;34m\u001b[0m\u001b[0m\n\u001b[1;32m   1225\u001b[0m         \u001b[0;32mfor\u001b[0m \u001b[0mparameter_handler\u001b[0m \u001b[0;32min\u001b[0m \u001b[0mparameter_handlers\u001b[0m\u001b[0;34m:\u001b[0m\u001b[0;34m\u001b[0m\u001b[0;34m\u001b[0m\u001b[0m\n\u001b[0;32m-&gt; 1226\u001b[0;31m             \u001b[0mparameter_handler\u001b[0m\u001b[0;34m.\u001b[0m\u001b[0mpostprocess_system\u001b[0m\u001b[0;34m(\u001b[0m\u001b[0msystem\u001b[0m\u001b[0;34m,\u001b[0m \u001b[0mtopology\u001b[0m\u001b[0;34m,\u001b[0m \u001b[0;34m**\u001b[0m\u001b[0mkwargs\u001b[0m\u001b[0;34m)\u001b[0m\u001b[0;34m\u001b[0m\u001b[0;34m\u001b[0m\u001b[0m\n\u001b[0m\u001b[1;32m   1227\u001b[0m \u001b[0;34m\u001b[0m\u001b[0m\n\u001b[1;32m   1228\u001b[0m         \u001b[0;32mif\u001b[0m \u001b[0mreturn_topology\u001b[0m\u001b[0;34m:\u001b[0m\u001b[0;34m\u001b[0m\u001b[0;34m\u001b[0m\u001b[0m\n",
      "\u001b[0;32m~/opt/anaconda3/envs/qcmm/lib/python3.6/site-packages/openforcefield/typing/engines/smirnoff/parameters.py\u001b[0m in \u001b[0;36mpostprocess_system\u001b[0;34m(self, system, topology, **kwargs)\u001b[0m\n\u001b[1;32m   3294\u001b[0m             \u001b[0;32mfor\u001b[0m \u001b[0mref_mol\u001b[0m \u001b[0;32min\u001b[0m \u001b[0muncharged_mols\u001b[0m\u001b[0;34m:\u001b[0m\u001b[0;34m\u001b[0m\u001b[0;34m\u001b[0m\u001b[0m\n\u001b[1;32m   3295\u001b[0m                 \u001b[0mmsg\u001b[0m \u001b[0;34m+=\u001b[0m \u001b[0;34mf&quot;{ref_mol.to_smiles()}\\n&quot;\u001b[0m\u001b[0;34m\u001b[0m\u001b[0;34m\u001b[0m\u001b[0m\n\u001b[0;32m-&gt; 3296\u001b[0;31m             \u001b[0;32mraise\u001b[0m \u001b[0mUnassignedMoleculeChargeException\u001b[0m\u001b[0;34m(\u001b[0m\u001b[0mmsg\u001b[0m\u001b[0;34m)\u001b[0m\u001b[0;34m\u001b[0m\u001b[0;34m\u001b[0m\u001b[0m\n\u001b[0m\u001b[1;32m   3297\u001b[0m \u001b[0;34m\u001b[0m\u001b[0m\n\u001b[1;32m   3298\u001b[0m \u001b[0;34m\u001b[0m\u001b[0m\n",
      "\u001b[0;31mUnassignedMoleculeChargeException\u001b[0m: The following molecules did not have charges assigned by any ParameterHandler in the ForceField:\n[H][C]1=[C]([C]([H])([H])[H])[N]([H])[CH]([H])[N]1[H]\n"
     ]
    }
   ],
   "source": [
    "ommH292 = PDBFile('H292.pdb')\n",
    "molH292 = Molecule('H292.sdf', allow_undefined_stereo=True)\n",
    "histidine_system = offParsley.create_openmm_system(\n",
    "    molH292.to_topology())\n",
    "pmdH292 = pmd.openmm.load_topology(\n",
    "    ommH292.topology,\n",
    "    histidine_system,\n",
    "    xyz=ommH292.positions)"
   ]
  },
  {
   "cell_type": "code",
   "execution_count": null,
   "metadata": {},
   "outputs": [],
   "source": [
    "pmdCPLX = pmdCBGA + pmdFHC + pmdY484 + pmdH292"
   ]
  },
  {
   "cell_type": "code",
   "execution_count": null,
   "metadata": {},
   "outputs": [],
   "source": []
  }
 ]
}