{
 "metadata": {
  "language_info": {
   "codemirror_mode": {
    "name": "ipython",
    "version": 3
   },
   "file_extension": ".py",
   "mimetype": "text/x-python",
   "name": "python",
   "nbconvert_exporter": "python",
   "pygments_lexer": "ipython3",
   "version": "3.6.11-final"
  },
  "orig_nbformat": 2,
  "kernelspec": {
   "name": "Python 3.6.11 64-bit ('qcmm': virtualenv)",
   "display_name": "Python 3.6.11 64-bit ('qcmm': virtualenv)",
   "metadata": {
    "interpreter": {
     "hash": "e48c9bfdccfbfe7b296ff3c837069cd72899fd94f29d974904d2d6b5927ea76d"
    }
   }
  }
 },
 "nbformat": 4,
 "nbformat_minor": 2,
 "cells": [
  {
   "cell_type": "code",
   "execution_count": 29,
   "metadata": {
    "tags": []
   },
   "outputs": [
    {
     "output_type": "stream",
     "name": "stdout",
     "text": "1 molecule converted\n==============================\n*** Open Babel Warning  in PerceiveBondOrders\n  Failed to kekulize aromatic bonds in OBMol::PerceiveBondOrders (title is FHC.pdb)\n\n1 molecule converted\n1 molecule converted\n1 molecule converted\n1 molecule converted\n1 molecule converted\n"
    }
   ],
   "source": [
    "# Ligand (CBGA)\n",
    "!obabel -h -ipdb CBGA.pdb -osdf > CBGA.sdf\n",
    "# Cofactor (FAD-His-Cys)\n",
    "!obabel -h -ipdb FHC.pdb -osdf > FHC.sdf\n",
    "# Active site residues \n",
    "!obabel -h -imol2 H292.mol2 -osdf > H292.sdf\n",
    "!obabel -h -imol2 H292.mol2 -opdb > H292.pdb\n",
    "!obabel -h -imol2 Y484.mol2 -osdf > Y484.sdf\n",
    "!obabel -h -imol2 Y484.mol2 -opdb > Y484.pdb\n"
   ]
  },
  {
   "cell_type": "code",
   "execution_count": 30,
   "metadata": {
    "tags": []
   },
   "outputs": [
    {
     "output_type": "stream",
     "name": "stderr",
     "text": "Warning (not error because allow_undefined_stereo=True): \nWarning (not error because allow_undefined_stereo=True): \n/Users/sethmartinez/opt/anaconda3/envs/qcmm/lib/python3.6/site-packages/parmed/openmm/topsystem.py:451: OpenMMWarning: Detected incomplete exceptions. Not supported.\n  warnings.warn(&#39;Detected incomplete exceptions. Not supported.&#39;, OpenMMWarning)\nWarning (not error because allow_undefined_stereo=True): \n/Users/sethmartinez/opt/anaconda3/envs/qcmm/lib/python3.6/site-packages/parmed/openmm/topsystem.py:451: OpenMMWarning: Detected incomplete exceptions. Not supported.\n  warnings.warn(&#39;Detected incomplete exceptions. Not supported.&#39;, OpenMMWarning)\n"
    }
   ],
   "source": [
    "import parmed as pmd\n",
    "\n",
    "from simtk import openmm, unit\n",
    "from simtk.openmm import app, LangevinIntegrator\n",
    "from simtk.openmm.app import PDBFile, NoCutoff, HBonds\n",
    "\n",
    "from openforcefield.topology import Molecule\n",
    "from openmmforcefields.generators import SystemGenerator\n",
    "from openforcefield.typing.engines.smirnoff import ForceField\n",
    "\n",
    "offParsley = ForceField('openff_unconstrained-1.2.1.offxml')\n",
    "\n",
    "ommCBGA = PDBFile('CBGA.pdb')\n",
    "molCBGA = Molecule('CBGA.sdf', allow_undefined_stereo=True)\n",
    "ligand_system = offParsley.create_openmm_system(\n",
    "    molCBGA.to_topology())\n",
    "pmdCBGA = pmd.openmm.load_topology(\n",
    "    ommCBGA.topology,\n",
    "    ligand_system,\n",
    "    xyz=ommCBGA.positions)\n",
    "\n",
    "ommFHC = PDBFile('FHC.pdb')\n",
    "molFHC = Molecule('FHC.sdf', allow_undefined_stereo=True)\n",
    "cofactor_system = offParsley.create_openmm_system(\n",
    "    molFHC.to_topology())\n",
    "pmdFHC = pmd.openmm.load_topology(\n",
    "    ommFHC.topology,\n",
    "    cofactor_system,\n",
    "    xyz=ommFHC.positions)\n",
    "\n",
    "ommY484 = PDBFile('Y484.pdb')\n",
    "molY484 = Molecule('Y484.sdf', allow_undefined_stereo=True)\n",
    "tyrosine_system = offParsley.create_openmm_system(\n",
    "    molY484.to_topology())\n",
    "pmdY484 = pmd.openmm.load_topology(\n",
    "    ommY484.topology,\n",
    "    tyrosine_system,\n",
    "    xyz=ommY484.positions)\n",
    "\n",
    "ommH292 = PDBFile('H292.pdb')\n",
    "molH292 = Molecule('H292.sdf', allow_undefined_stereo=True)\n",
    "histidine_system = offParsley.create_openmm_system(\n",
    "    molH292.to_topology())\n",
    "pmdH292 = pmd.openmm.load_topology(\n",
    "    ommH292.topology,\n",
    "    histidine_system,\n",
    "    xyz=ommH292.positions)"
   ]
  },
  {
   "cell_type": "code",
   "execution_count": 31,
   "metadata": {},
   "outputs": [],
   "source": [
    "pmdCPLX = pmdCBGA + pmdFHC + pmdY484 + pmdH292"
   ]
  },
  {
   "cell_type": "code",
   "execution_count": 34,
   "metadata": {},
   "outputs": [
    {
     "output_type": "display_data",
     "data": {
      "text/plain": "NGLWidget()",
      "application/vnd.jupyter.widget-view+json": {
       "version_major": 2,
       "version_minor": 0,
       "model_id": "fcbad587ff4d4408b6c9d4fc9f7e63cb"
      }
     },
     "metadata": {}
    }
   ],
   "source": [
    "pmdCPLX.save('complex.pdb')\n",
    "pmdCPLX.visualize()"
   ]
  },
  {
   "cell_type": "code",
   "execution_count": null,
   "metadata": {},
   "outputs": [],
   "source": []
  }
 ]
}