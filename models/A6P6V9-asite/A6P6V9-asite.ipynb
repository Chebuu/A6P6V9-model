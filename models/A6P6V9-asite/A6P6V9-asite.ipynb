{
 "metadata": {
  "language_info": {
   "codemirror_mode": {
    "name": "ipython",
    "version": 3
   },
   "file_extension": ".py",
   "mimetype": "text/x-python",
   "name": "python",
   "nbconvert_exporter": "python",
   "pygments_lexer": "ipython3",
   "version": "3.6.11-final"
  },
  "orig_nbformat": 2,
  "kernelspec": {
   "name": "Python 3.6.11 64-bit ('qcmm': conda)",
   "display_name": "Python 3.6.11 64-bit ('qcmm': conda)",
   "metadata": {
    "interpreter": {
     "hash": "e48c9bfdccfbfe7b296ff3c837069cd72899fd94f29d974904d2d6b5927ea76d"
    }
   }
  }
 },
 "nbformat": 4,
 "nbformat_minor": 2,
 "cells": [
  {
   "cell_type": "code",
   "execution_count": null,
   "metadata": {
    "tags": []
   },
   "outputs": [],
   "source": [
    "# Ligand (CBGA)\n",
    "!obabel -h -ipdb CBGA.pdb -osdf > CBGA.sdf\n",
    "# Cofactor (FAD-His-Cys)\n",
    "!obabel -h -ipdb FHC.pdb -osdf > FHC.sdf\n",
    "# Active site residues \n",
    "!obabel -h -imol2 H292.mol2 -osdf > H292.sdf\n",
    "!obabel -h -imol2 H292.mol2 -osdf > H292.pdb\n",
    "!obabel -h -imol2 Y484.mol2 -osdf > Y484.sdf\n",
    "!obabel -h -imol2 Y484.mol2 -opdb > Y484.pdb\n"
   ]
  },
  {
   "cell_type": "code",
   "execution_count": null,
   "metadata": {
    "tags": []
   },
   "outputs": [],
   "source": [
    "import parmed as pmd\n",
    "\n",
    "from simtk import openmm, unit\n",
    "from simtk.openmm import app, LangevinIntegrator\n",
    "from simtk.openmm.app import PDBFile, NoCutoff, HBonds\n",
    "\n",
    "from openforcefield.topology import Molecule\n",
    "from openmmforcefields.generators import SystemGenerator\n",
    "from openforcefield.typing.engines.smirnoff import ForceField\n",
    "\n",
    "offParsley = ForceField('openff_unconstrained-1.2.1.offxml')\n",
    "\n",
    "ommCBGA = PDBFile('CBGA.pdb')\n",
    "molCBGA = Molecule('CBGA.sdf', allow_undefined_stereo=True)\n",
    "ligand_system = offParsley.create_openmm_system(\n",
    "    molCBGA.to_topology())\n",
    "pmdCBGA = pmd.openmm.load_topology(\n",
    "    ommCBGA.topology,\n",
    "    ligand_system,\n",
    "    xyz=ommCBGA.positions)\n",
    "\n",
    "ommFHC = PDBFile('FHC.pdb')\n",
    "molFHC = Molecule('FHC.sdf', allow_undefined_stereo=True)\n",
    "cofactor_system = offParsley.create_openmm_system(\n",
    "    molFHC.to_topology())\n",
    "pmdFHC = pmd.openmm.load_topology(\n",
    "    ommFHC.topology,\n",
    "    cofactor_system,\n",
    "    xyz=ommFHC.positions)\n",
    "\n",
    "ommY484 = PDBFile('Y484.pdb')\n",
    "molY484 = Molecule('Y484.sdf', allow_undefined_stereo=True)\n",
    "tyrosine_system = offParsley.create_openmm_system(\n",
    "    molY484.to_topology())\n",
    "pmdY484 = pmd.openmm.load_topology(\n",
    "    ommY484.topology,\n",
    "    tyrosine_system,\n",
    "    xyz=ommY484.positions)\n",
    "\n",
    "ommH292 = PDBFile('H292.pdb')\n",
    "ommH292 = Molecule('H292.sdf', allow_undefined_stereo=True)\n",
    "histidine_system = offParsley.create_openmm_system(\n",
    "    molH292.to_topology())\n",
    "pmdH292 = pmd.openmm.load_topology(\n",
    "    ommH292.topology,\n",
    "    histidine_system,\n",
    "    xyz=ommH292.positions)\n",
    "\n",
    "pmdCPLX = pmdCBGA + pmdFHC + pmdY484 + pmdH292"
   ]
  },
  {
   "cell_type": "code",
   "execution_count": null,
   "metadata": {},
   "outputs": [],
   "source": []
  }
 ]
}